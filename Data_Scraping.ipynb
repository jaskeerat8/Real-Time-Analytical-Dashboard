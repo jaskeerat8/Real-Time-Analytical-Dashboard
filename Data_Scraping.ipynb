{
 "cells": [
  {
   "cell_type": "markdown",
   "id": "2812e896",
   "metadata": {},
   "source": [
    "## Importing Libraries"
   ]
  },
  {
   "cell_type": "code",
   "execution_count": 2,
   "id": "78a2db4d",
   "metadata": {},
   "outputs": [],
   "source": [
    "import os\n",
    "import json\n",
    "import boto3\n",
    "import requests\n",
    "import pandas as pd\n",
    "import mysql.connector\n",
    "from sqlalchemy import create_engine\n",
    "from bs4 import BeautifulSoup\n",
    "import pytz\n",
    "from datetime import datetime, date, timedelta\n",
    "import pickle\n",
    "from sklearn.linear_model import LinearRegression"
   ]
  },
  {
   "cell_type": "markdown",
   "id": "23eab51c",
   "metadata": {},
   "source": [
    "### Weather Data"
   ]
  },
  {
   "cell_type": "code",
   "execution_count": 3,
   "id": "0176b930",
   "metadata": {},
   "outputs": [
    {
     "name": "stdout",
     "output_type": "stream",
     "text": [
      "{\"data\":{\"time\":\"2024-04-02T05:30:00Z\",\"values\":{\"cloudBase\":1.91,\"cloudCeiling\":null,\"cloudCover\":39,\"dewPoint\":10.69,\"freezingRainIntensity\":0,\"humidity\":38,\"precipitationProbability\":0,\"pressureSurfaceLevel\":972.8,\"rainIntensity\":0,\"sleetIntensity\":0,\"snowIntensity\":0,\"temperature\":25.88,\"temperatureApparent\":25.88,\"uvHealthConcern\":3,\"uvIndex\":8,\"visibility\":16,\"weatherCode\":1101,\"windDirection\":307.13,\"windGust\":10,\"windSpeed\":5.13}},\"location\":{\"lat\":30.729843139648438,\"lon\":76.78414916992188,\"name\":\"Chandigarh, Chandigarh District, Chandigarh, India\",\"type\":\"administrative\"}}\n"
     ]
    }
   ],
   "source": [
    "url = f\"\"\"https://api.tomorrow.io/v4/weather/realtime?location=chandigarh&apikey={os.environ.get(\"weather_api_key\")}\"\"\"\n",
    "headers = {\"accept\": \"application/json\"}\n",
    "response = requests.get(url, headers=headers)\n",
    "\n",
    "print(response.text)"
   ]
  },
  {
   "cell_type": "markdown",
   "id": "78d19b8c",
   "metadata": {},
   "source": [
    "### AWS Connection"
   ]
  },
  {
   "cell_type": "code",
   "execution_count": 2,
   "id": "b44ab8da",
   "metadata": {},
   "outputs": [],
   "source": [
    "region_name = \"ap-southeast-2\"\n",
    "secret_name = \"rdsMYSQL\"\n",
    "session = boto3.session.Session(region_name=region_name, aws_access_key_id=os.environ.get(\"aws_access_key_id\"),\n",
    "                                aws_secret_access_key=os.environ.get(\"aws_secret_access_key\"))\n",
    "sm_client = session.client(service_name=\"secretsmanager\")\n",
    "\n",
    "try:\n",
    "    get_secret_value_response = sm_client.get_secret_value(SecretId=secret_name)\n",
    "    value = json.loads(get_secret_value_response[\"SecretString\"])\n",
    "except Exception as e:\n",
    "    print(\"Failed to Read Data:\", e)"
   ]
  },
  {
   "cell_type": "markdown",
   "id": "f21fa5ae",
   "metadata": {},
   "source": [
    "### MySQL Connection"
   ]
  },
  {
   "cell_type": "code",
   "execution_count": 3,
   "id": "c74d9ada",
   "metadata": {},
   "outputs": [],
   "source": [
    "def post_data(time_received, aqi_us_count, aqi_in_count, pm25, pm10, so2, co, o3, no2):\n",
    "    mysql_config = {\n",
    "        \"host\": value[\"endpoint\"],\n",
    "        \"user\": value[\"user\"],\n",
    "        \"password\": value[\"password\"],\n",
    "        \"database\": value[\"database\"]\n",
    "    }\n",
    "    mysql_connection = mysql.connector.connect(**mysql_config)\n",
    "    mysql_cursor = mysql_connection.cursor()\n",
    "\n",
    "    # Checking if Data exists in MySQL\n",
    "    if mysql_connection.is_connected():\n",
    "        already_exist_query = \"\"\"\n",
    "        SELECT COUNT(*) FROM dashboard.aqi_measures \n",
    "        WHERE time_received = %s\n",
    "        \"\"\"\n",
    "        mysql_cursor.execute(already_exist_query, (time_received,))\n",
    "        count = mysql_cursor.fetchone()[0]\n",
    "    \n",
    "    # Insert Data into MySQL\n",
    "    if(count == 0):\n",
    "        insert_query = f\"\"\"\n",
    "        INSERT INTO dashboard.aqi_measures \n",
    "        (time_received, aqi_us_count, aqi_in_count, pm25, pm10, so2, co, o3, no2) \n",
    "        VALUES (%s, %s, %s, %s, %s, %s, %s, %s, %s)\n",
    "        \"\"\"\n",
    "        mysql_cursor.execute(insert_query, (time_received, aqi_us_count, aqi_in_count, pm25, pm10, so2, co, o3, no2))\n",
    "        mysql_connection.commit()\n",
    "    else:\n",
    "        print(\"Data already Exists\")\n",
    "    \n",
    "    mysql_cursor.close()\n",
    "    mysql_connection.close()\n",
    "    return True"
   ]
  },
  {
   "cell_type": "markdown",
   "id": "a409d3e7",
   "metadata": {},
   "source": [
    "### Collecting Data"
   ]
  },
  {
   "cell_type": "code",
   "execution_count": 4,
   "id": "86527a55",
   "metadata": {},
   "outputs": [],
   "source": [
    "url = \"https://www.aqi.in/au/dashboard/india/chandigarh\"\n",
    "response = requests.get(url)\n",
    "html_content = response.text"
   ]
  },
  {
   "cell_type": "code",
   "execution_count": 5,
   "id": "42a4430c",
   "metadata": {},
   "outputs": [
    {
     "name": "stdout",
     "output_type": "stream",
     "text": [
      "Data already Exists\n"
     ]
    },
    {
     "data": {
      "text/plain": [
       "True"
      ]
     },
     "execution_count": 5,
     "metadata": {},
     "output_type": "execute_result"
    }
   ],
   "source": [
    "soup = BeautifulSoup(html_content, \"html.parser\")\n",
    "time_received = soup.find(class_=\"card-location-time\").text.split(\":\", 1)[-1].strip()\n",
    "time_received = datetime.strptime(time_received, \"%d %b %Y, %I:%M%p\")\n",
    "\n",
    "aqi_us_count = int(soup.find_all(class_=\"AQI_toggle aqiUsa\")[-1].text)\n",
    "aqi_in_count = int(soup.find_all(class_=\"AQI_toggle aqiInd\")[-1].text)\n",
    "pm25, pm10, so2, co, o3, no2 = [int(value.text) for value in soup.find_all(class_=\"Pollutants_sensor_text\")]\n",
    "\n",
    "post_data(time_received, aqi_us_count, aqi_in_count, pm25, pm10, so2, co, o3, no2)"
   ]
  },
  {
   "cell_type": "markdown",
   "id": "229dbe06",
   "metadata": {},
   "source": [
    "### ML Data"
   ]
  },
  {
   "cell_type": "code",
   "execution_count": 6,
   "id": "eacceb86",
   "metadata": {},
   "outputs": [],
   "source": [
    "def download_pdf(url, save_path):\n",
    "    response = requests.get(url)\n",
    "    with open(save_path, \"wb\") as pdf_file:\n",
    "        pdf_file.write(response.content)"
   ]
  },
  {
   "cell_type": "code",
   "execution_count": 7,
   "id": "a20a959b",
   "metadata": {},
   "outputs": [],
   "source": [
    "start_date = date(2023, 1, 1)\n",
    "end_date = date(2023, 12, 31)\n",
    "dates = [(start_date + timedelta(days=x)).strftime(\"%Y%m%d\") for x in range((end_date - start_date).days + 1)]\n",
    "\n",
    "for d in dates:\n",
    "    url = f\"https://cpcb.nic.in//upload/Downloads/AQI_Bulletin_{d}.pdf\"\n",
    "    save_path = r\"C:\\Users\\jaske\\Downloads\\data\\{}.pdf\".format(d)\n",
    "    #download_pdf(url, save_path)"
   ]
  },
  {
   "cell_type": "code",
   "execution_count": 8,
   "id": "b8982c5e",
   "metadata": {},
   "outputs": [],
   "source": [
    "df = pd.read_csv(r\"C:\\Users\\jaske\\Downloads\\archive\\city_hour_transformed.csv\")\n",
    "df = df[df[\"City\"] == \"Chandigarh\"]\n",
    "df = df[[\"City\", \"Datetime\", \"AQI\"]]\n",
    "df.dropna(inplace=True)\n",
    "df.to_csv(r\"C:\\Users\\jaske\\Downloads\\chandigarh.csv\", index=False)"
   ]
  },
  {
   "cell_type": "markdown",
   "id": "3c5a558d",
   "metadata": {},
   "source": [
    "### Predicting Value"
   ]
  },
  {
   "cell_type": "code",
   "execution_count": 9,
   "id": "57150a77",
   "metadata": {},
   "outputs": [],
   "source": [
    "df[\"Datetime\"] = pd.to_datetime(df[\"Datetime\"])\n",
    "df[\"Hour\"] = df[\"Datetime\"].dt.hour\n",
    "\n",
    "model = LinearRegression()\n",
    "model.fit(df[[\"Hour\"]], df[\"AQI\"])\n",
    "\n",
    "with open(r\"C:\\Users\\jaske\\Downloads\\model.pkl\", \"wb\") as f:\n",
    "    pickle.dump(model, f)"
   ]
  },
  {
   "cell_type": "code",
   "execution_count": 10,
   "id": "5bfe1170",
   "metadata": {},
   "outputs": [
    {
     "data": {
      "text/plain": [
       "98.4512902399668"
      ]
     },
     "execution_count": 10,
     "metadata": {},
     "output_type": "execute_result"
    }
   ],
   "source": [
    "upcoming_hour = (datetime.now().astimezone(pytz.timezone(\"Asia/Kolkata\"))+timedelta(hours=1)).hour\n",
    "model.predict(pd.DataFrame({\"Hour\": [upcoming_hour]}))[0]"
   ]
  },
  {
   "cell_type": "code",
   "execution_count": null,
   "id": "b55b984b",
   "metadata": {},
   "outputs": [],
   "source": []
  }
 ],
 "metadata": {
  "kernelspec": {
   "display_name": "Python 3 (ipykernel)",
   "language": "python",
   "name": "python3"
  },
  "language_info": {
   "codemirror_mode": {
    "name": "ipython",
    "version": 3
   },
   "file_extension": ".py",
   "mimetype": "text/x-python",
   "name": "python",
   "nbconvert_exporter": "python",
   "pygments_lexer": "ipython3",
   "version": "3.11.4"
  }
 },
 "nbformat": 4,
 "nbformat_minor": 5
}
