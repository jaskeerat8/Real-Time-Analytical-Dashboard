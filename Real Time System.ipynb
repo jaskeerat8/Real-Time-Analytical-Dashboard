{
 "cells": [
  {
   "cell_type": "markdown",
   "id": "2812e896",
   "metadata": {},
   "source": [
    "## Importing Libraries"
   ]
  },
  {
   "cell_type": "code",
   "execution_count": 1,
   "id": "78a2db4d",
   "metadata": {},
   "outputs": [],
   "source": [
    "import os\n",
    "import json\n",
    "import boto3\n",
    "import requests\n",
    "import mysql.connector\n",
    "from sqlalchemy import create_engine\n",
    "from bs4 import BeautifulSoup\n",
    "from datetime import datetime"
   ]
  },
  {
   "cell_type": "markdown",
   "id": "78d19b8c",
   "metadata": {},
   "source": [
    "### AWS Connection"
   ]
  },
  {
   "cell_type": "code",
   "execution_count": 2,
   "id": "b44ab8da",
   "metadata": {},
   "outputs": [],
   "source": [
    "region_name = \"ap-southeast-2\"\n",
    "secret_name = \"rdsMYSQL\"\n",
    "session = boto3.session.Session(region_name=region_name, aws_access_key_id=os.environ.get(\"aws_access_key_id\"),\n",
    "                                aws_secret_access_key=os.environ.get(\"aws_secret_access_key\"))\n",
    "sm_client = session.client(service_name=\"secretsmanager\")\n",
    "\n",
    "try:\n",
    "    get_secret_value_response = sm_client.get_secret_value(SecretId=secret_name)\n",
    "    value = json.loads(get_secret_value_response[\"SecretString\"])\n",
    "except Exception as e:\n",
    "    print(\"Failed to Read Data:\", e)"
   ]
  },
  {
   "cell_type": "markdown",
   "id": "f21fa5ae",
   "metadata": {},
   "source": [
    "### MySQL Connection"
   ]
  },
  {
   "cell_type": "code",
   "execution_count": 3,
   "id": "c74d9ada",
   "metadata": {},
   "outputs": [],
   "source": [
    "def post_data(time_received, aqi_us_count, aqi_in_count, pm25, pm10, so2, co, o3, no2):\n",
    "    mysql_config = {\n",
    "        \"host\": value[\"endpoint\"],\n",
    "        \"user\": value[\"user\"],\n",
    "        \"password\": value[\"password\"],\n",
    "        \"database\": value[\"database\"]\n",
    "    }\n",
    "    mysql_connection = mysql.connector.connect(**mysql_config)\n",
    "    mysql_cursor = mysql_connection.cursor()\n",
    "\n",
    "    # Checking if Data exists in MySQL\n",
    "    if mysql_connection.is_connected():\n",
    "        already_exist_query = \"\"\"\n",
    "        SELECT COUNT(*) FROM dashboard.aqi_measures \n",
    "        WHERE time_received = %s\n",
    "        \"\"\"\n",
    "        mysql_cursor.execute(already_exist_query, (time_received,))\n",
    "        count = mysql_cursor.fetchone()[0]\n",
    "    \n",
    "    # Insert Data into MySQL\n",
    "    if(count == 0):\n",
    "        insert_query = f\"\"\"\n",
    "        INSERT INTO dashboard.aqi_measures \n",
    "        (time_received, aqi_us_count, aqi_in_count, pm25, pm10, so2, co, o3, no2) \n",
    "        VALUES (%s, %s, %s, %s, %s, %s, %s, %s, %s)\n",
    "        \"\"\"\n",
    "        mysql_cursor.execute(insert_query, (time_received, aqi_us_count, aqi_in_count, pm25, pm10, so2, co, o3, no2))\n",
    "        mysql_connection.commit()\n",
    "    else:\n",
    "        print(\"Data already Exists\")\n",
    "    \n",
    "    mysql_cursor.close()\n",
    "    mysql_connection.close()\n",
    "    return True"
   ]
  },
  {
   "cell_type": "markdown",
   "id": "a409d3e7",
   "metadata": {},
   "source": [
    "### Collecting Data"
   ]
  },
  {
   "cell_type": "code",
   "execution_count": 4,
   "id": "86527a55",
   "metadata": {},
   "outputs": [],
   "source": [
    "url = \"https://www.aqi.in/au/dashboard/india/chandigarh\"\n",
    "response = requests.get(url)\n",
    "html_content = response.text"
   ]
  },
  {
   "cell_type": "code",
   "execution_count": 5,
   "id": "42a4430c",
   "metadata": {},
   "outputs": [
    {
     "data": {
      "text/plain": [
       "True"
      ]
     },
     "execution_count": 5,
     "metadata": {},
     "output_type": "execute_result"
    }
   ],
   "source": [
    "soup = BeautifulSoup(html_content, \"html.parser\")\n",
    "time_received = soup.find(class_=\"card-location-time\").text.split(\":\", 1)[-1].strip()\n",
    "time_received = datetime.strptime(time_received, \"%d %b %Y, %I:%M%p\")\n",
    "\n",
    "aqi_us_count = int(soup.find_all(class_=\"AQI_toggle aqiUsa\")[-1].text)\n",
    "aqi_in_count = int(soup.find_all(class_=\"AQI_toggle aqiInd\")[-1].text)\n",
    "pm25, pm10, so2, co, o3, no2 = [int(value.text) for value in soup.find_all(class_=\"Pollutants_sensor_text\")]\n",
    "\n",
    "post_data(time_received, aqi_us_count, aqi_in_count, pm25, pm10, so2, co, o3, no2)"
   ]
  }
 ],
 "metadata": {
  "kernelspec": {
   "display_name": "Python 3 (ipykernel)",
   "language": "python",
   "name": "python3"
  },
  "language_info": {
   "codemirror_mode": {
    "name": "ipython",
    "version": 3
   },
   "file_extension": ".py",
   "mimetype": "text/x-python",
   "name": "python",
   "nbconvert_exporter": "python",
   "pygments_lexer": "ipython3",
   "version": "3.11.4"
  }
 },
 "nbformat": 4,
 "nbformat_minor": 5
}
